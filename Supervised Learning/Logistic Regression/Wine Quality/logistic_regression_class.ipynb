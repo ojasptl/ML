{
 "cells": [
  {
   "cell_type": "code",
   "execution_count": 28,
   "id": "initial_id",
   "metadata": {
    "collapsed": true,
    "ExecuteTime": {
     "end_time": "2023-08-28T02:44:05.835043900Z",
     "start_time": "2023-08-28T02:44:05.788370400Z"
    }
   },
   "outputs": [],
   "source": [
    "# creating a class for regression\n",
    "class LinearRegression:\n",
    "\n",
    "    def __init__(self, alpha, iterations):\n",
    "        self.alpha = alpha\n",
    "        self.iterations = iterations\n",
    "\n",
    "    def fit(self, x, y):\n",
    "        self.x = x\n",
    "        self.y = y\n",
    "        self.m, self.n = self.x.shape\n",
    "        self.b = 0\n",
    "        self.w = np.zeros(self.n)\n",
    "        for i in range(self.iterations):\n",
    "            self.updates()\n",
    "\n",
    "    def updates(self):\n",
    "        y_pred = 1.0 / (1 + np.exp(-(np.dot(self.x, self.w) + self.b)))\n",
    "        d_w = (1 / (2 * self.m)) * np.dot(self.x.T, (y_pred - self.y))\n",
    "        d_b = (1 / (2 * self.m)) * np.sum(y_pred - self.y)\n",
    "        self.w -= self.alpha * d_w\n",
    "        self.b -= self.alpha * d_b\n",
    "\n",
    "    def predict(self, x):\n",
    "        y_pred = (1.0 / (1 + np.exp(-(np.dot(self.x, self.w) + self.b))))\n",
    "        y_pred = np.where( y_pred > 0.5, 1, 0)\n",
    "        return y_pred\n",
    "    "
   ]
  },
  {
   "cell_type": "code",
   "execution_count": 29,
   "outputs": [],
   "source": [
    "# importing libraries\n",
    "import numpy as np\n",
    "import pandas as pd\n",
    "import matplotlib.pyplot as plt\n"
   ],
   "metadata": {
    "collapsed": false,
    "ExecuteTime": {
     "end_time": "2023-08-28T02:44:05.850671600Z",
     "start_time": "2023-08-28T02:44:05.803398500Z"
    }
   },
   "id": "76c5705ba89aff51"
  },
  {
   "cell_type": "code",
   "execution_count": 30,
   "outputs": [
    {
     "data": {
      "text/plain": "       Unnamed: 0  fixed acidity  volatile acidity  citric acid  \\\n0            2732            7.4             0.170         0.29   \n1            2607            5.3             0.310         0.38   \n2            1653            4.7             0.145         0.29   \n3            3264            6.9             0.260         0.29   \n4            4931            6.4             0.450         0.07   \n...           ...            ...               ...          ...   \n32480        2838            5.0             0.255         0.22   \n32481        6414            6.6             0.360         0.52   \n32482        1126            6.3             0.200         0.24   \n32483        2924            6.2             0.200         0.33   \n32484        5462            8.1             0.280         0.46   \n\n       residual sugar  chlorides  free sulfur dioxide  total sulfur dioxide  \\\n0                 1.4      0.047                 23.0                 107.0   \n1                10.5      0.031                 53.0                 140.0   \n2                 1.0      0.042                 35.0                  90.0   \n3                 4.2      0.043                 33.0                 114.0   \n4                 1.1      0.030                 10.0                 131.0   \n...               ...        ...                  ...                   ...   \n32480             2.7      0.043                 46.0                 153.0   \n32481            11.3      0.046                  8.0                 110.0   \n32482             1.7      0.052                 36.0                 135.0   \n32483             5.4      0.028                 21.0                  75.0   \n32484            15.4      0.059                 32.0                 177.0   \n\n       density    pH  sulphates  alcohol  quality        Type  \n0      0.99390  3.52       0.65     10.4        6  White Wine  \n1      0.99321  3.34       0.46     11.7        6  White Wine  \n2      0.99080  3.76       0.49     11.3        6  White Wine  \n3      0.99020  3.16       0.31     12.5        6  White Wine  \n4      0.99050  2.97       0.28     10.8        5  White Wine  \n...        ...   ...        ...      ...      ...         ...  \n32480  0.99238  3.75       0.76     11.3        6  White Wine  \n32481  0.99660  3.07       0.46      9.4        5  White Wine  \n32482  0.99374  3.80       0.66     10.8        6  White Wine  \n32483  0.99012  3.36       0.41     13.5        7  White Wine  \n32484  1.00040  3.27       0.58      9.0        4  White Wine  \n\n[32485 rows x 14 columns]",
      "text/html": "<div>\n<style scoped>\n    .dataframe tbody tr th:only-of-type {\n        vertical-align: middle;\n    }\n\n    .dataframe tbody tr th {\n        vertical-align: top;\n    }\n\n    .dataframe thead th {\n        text-align: right;\n    }\n</style>\n<table border=\"1\" class=\"dataframe\">\n  <thead>\n    <tr style=\"text-align: right;\">\n      <th></th>\n      <th>Unnamed: 0</th>\n      <th>fixed acidity</th>\n      <th>volatile acidity</th>\n      <th>citric acid</th>\n      <th>residual sugar</th>\n      <th>chlorides</th>\n      <th>free sulfur dioxide</th>\n      <th>total sulfur dioxide</th>\n      <th>density</th>\n      <th>pH</th>\n      <th>sulphates</th>\n      <th>alcohol</th>\n      <th>quality</th>\n      <th>Type</th>\n    </tr>\n  </thead>\n  <tbody>\n    <tr>\n      <th>0</th>\n      <td>2732</td>\n      <td>7.4</td>\n      <td>0.170</td>\n      <td>0.29</td>\n      <td>1.4</td>\n      <td>0.047</td>\n      <td>23.0</td>\n      <td>107.0</td>\n      <td>0.99390</td>\n      <td>3.52</td>\n      <td>0.65</td>\n      <td>10.4</td>\n      <td>6</td>\n      <td>White Wine</td>\n    </tr>\n    <tr>\n      <th>1</th>\n      <td>2607</td>\n      <td>5.3</td>\n      <td>0.310</td>\n      <td>0.38</td>\n      <td>10.5</td>\n      <td>0.031</td>\n      <td>53.0</td>\n      <td>140.0</td>\n      <td>0.99321</td>\n      <td>3.34</td>\n      <td>0.46</td>\n      <td>11.7</td>\n      <td>6</td>\n      <td>White Wine</td>\n    </tr>\n    <tr>\n      <th>2</th>\n      <td>1653</td>\n      <td>4.7</td>\n      <td>0.145</td>\n      <td>0.29</td>\n      <td>1.0</td>\n      <td>0.042</td>\n      <td>35.0</td>\n      <td>90.0</td>\n      <td>0.99080</td>\n      <td>3.76</td>\n      <td>0.49</td>\n      <td>11.3</td>\n      <td>6</td>\n      <td>White Wine</td>\n    </tr>\n    <tr>\n      <th>3</th>\n      <td>3264</td>\n      <td>6.9</td>\n      <td>0.260</td>\n      <td>0.29</td>\n      <td>4.2</td>\n      <td>0.043</td>\n      <td>33.0</td>\n      <td>114.0</td>\n      <td>0.99020</td>\n      <td>3.16</td>\n      <td>0.31</td>\n      <td>12.5</td>\n      <td>6</td>\n      <td>White Wine</td>\n    </tr>\n    <tr>\n      <th>4</th>\n      <td>4931</td>\n      <td>6.4</td>\n      <td>0.450</td>\n      <td>0.07</td>\n      <td>1.1</td>\n      <td>0.030</td>\n      <td>10.0</td>\n      <td>131.0</td>\n      <td>0.99050</td>\n      <td>2.97</td>\n      <td>0.28</td>\n      <td>10.8</td>\n      <td>5</td>\n      <td>White Wine</td>\n    </tr>\n    <tr>\n      <th>...</th>\n      <td>...</td>\n      <td>...</td>\n      <td>...</td>\n      <td>...</td>\n      <td>...</td>\n      <td>...</td>\n      <td>...</td>\n      <td>...</td>\n      <td>...</td>\n      <td>...</td>\n      <td>...</td>\n      <td>...</td>\n      <td>...</td>\n      <td>...</td>\n    </tr>\n    <tr>\n      <th>32480</th>\n      <td>2838</td>\n      <td>5.0</td>\n      <td>0.255</td>\n      <td>0.22</td>\n      <td>2.7</td>\n      <td>0.043</td>\n      <td>46.0</td>\n      <td>153.0</td>\n      <td>0.99238</td>\n      <td>3.75</td>\n      <td>0.76</td>\n      <td>11.3</td>\n      <td>6</td>\n      <td>White Wine</td>\n    </tr>\n    <tr>\n      <th>32481</th>\n      <td>6414</td>\n      <td>6.6</td>\n      <td>0.360</td>\n      <td>0.52</td>\n      <td>11.3</td>\n      <td>0.046</td>\n      <td>8.0</td>\n      <td>110.0</td>\n      <td>0.99660</td>\n      <td>3.07</td>\n      <td>0.46</td>\n      <td>9.4</td>\n      <td>5</td>\n      <td>White Wine</td>\n    </tr>\n    <tr>\n      <th>32482</th>\n      <td>1126</td>\n      <td>6.3</td>\n      <td>0.200</td>\n      <td>0.24</td>\n      <td>1.7</td>\n      <td>0.052</td>\n      <td>36.0</td>\n      <td>135.0</td>\n      <td>0.99374</td>\n      <td>3.80</td>\n      <td>0.66</td>\n      <td>10.8</td>\n      <td>6</td>\n      <td>White Wine</td>\n    </tr>\n    <tr>\n      <th>32483</th>\n      <td>2924</td>\n      <td>6.2</td>\n      <td>0.200</td>\n      <td>0.33</td>\n      <td>5.4</td>\n      <td>0.028</td>\n      <td>21.0</td>\n      <td>75.0</td>\n      <td>0.99012</td>\n      <td>3.36</td>\n      <td>0.41</td>\n      <td>13.5</td>\n      <td>7</td>\n      <td>White Wine</td>\n    </tr>\n    <tr>\n      <th>32484</th>\n      <td>5462</td>\n      <td>8.1</td>\n      <td>0.280</td>\n      <td>0.46</td>\n      <td>15.4</td>\n      <td>0.059</td>\n      <td>32.0</td>\n      <td>177.0</td>\n      <td>1.00040</td>\n      <td>3.27</td>\n      <td>0.58</td>\n      <td>9.0</td>\n      <td>4</td>\n      <td>White Wine</td>\n    </tr>\n  </tbody>\n</table>\n<p>32485 rows × 14 columns</p>\n</div>"
     },
     "execution_count": 30,
     "metadata": {},
     "output_type": "execute_result"
    }
   ],
   "source": [
    "# reading the csv files and dropping any NaN values\n",
    "df = pd.read_csv(\"WineQuality.csv\")\n",
    "df.dropna()\n",
    "df.isnull\n",
    "df\n"
   ],
   "metadata": {
    "collapsed": false,
    "ExecuteTime": {
     "end_time": "2023-08-28T02:44:05.881998400Z",
     "start_time": "2023-08-28T02:44:05.808891900Z"
    }
   },
   "id": "71eaac7f72649b8f"
  },
  {
   "cell_type": "code",
   "execution_count": 31,
   "outputs": [],
   "source": [
    "# assigning features to numpy arrays and applying logistic regression\n",
    "df['Type'].replace(['White Wine', 'Red Wine'], [0, 1], inplace=True)\n",
    "y = np.array(df['Type'])\n",
    "gn = df.drop(columns = 'Unnamed: 0', axis = 1)\n",
    "ng = gn.drop(columns = 'density', axis = 1)\n",
    "x = ng.drop(columns = 'Type', axis =1)\n",
    "from sklearn.preprocessing import StandardScaler\n",
    "gf = StandardScaler()\n",
    "gf.fit(x)\n",
    "standardized_data = gf.transform(x)\n",
    "x = standardized_data"
   ],
   "metadata": {
    "collapsed": false,
    "ExecuteTime": {
     "end_time": "2023-08-28T02:44:05.975830700Z",
     "start_time": "2023-08-28T02:44:05.877479200Z"
    }
   },
   "id": "1891cd171cdae8a8"
  },
  {
   "cell_type": "code",
   "execution_count": 32,
   "outputs": [],
   "source": [
    "# calculating the estimated predicted values\n",
    "gn = LinearRegression(0.01, 10000)\n",
    "gn.fit(x, y)\n",
    "y_calc = gn.predict(x)"
   ],
   "metadata": {
    "collapsed": false,
    "ExecuteTime": {
     "end_time": "2023-08-28T02:44:19.866503400Z",
     "start_time": "2023-08-28T02:44:05.913315700Z"
    }
   },
   "id": "53171458c3ebbd13"
  },
  {
   "cell_type": "code",
   "execution_count": 33,
   "outputs": [
    {
     "data": {
      "text/plain": "<function matplotlib.pyplot.show(close=None, block=None)>"
     },
     "execution_count": 33,
     "metadata": {},
     "output_type": "execute_result"
    },
    {
     "data": {
      "text/plain": "<Figure size 640x480 with 1 Axes>",
      "image/png": "[encoded data removed]"
     },
     "metadata": {},
     "output_type": "display_data"
    }
   ],
   "source": [
    "# plotting the graph\n",
    "plt.scatter(y, y_calc)\n",
    "plt.show"
   ],
   "metadata": {
    "collapsed": false,
    "ExecuteTime": {
     "end_time": "2023-08-28T02:44:20.192466300Z",
     "start_time": "2023-08-28T02:44:19.866503400Z"
    }
   },
   "id": "2c8c622769792dc9"
  },
  {
   "cell_type": "code",
   "execution_count": 34,
   "outputs": [
    {
     "name": "stdout",
     "output_type": "stream",
     "text": [
      "0.9898722487301832\n"
     ]
    }
   ],
   "source": [
    "# finding the accuracy from scikit learn accuracy score library\n",
    "from sklearn.metrics import accuracy_score\n",
    "print(accuracy_score(y, y_calc))"
   ],
   "metadata": {
    "collapsed": false,
    "ExecuteTime": {
     "end_time": "2023-08-28T02:44:20.212645900Z",
     "start_time": "2023-08-28T02:44:20.192466300Z"
    }
   },
   "id": "394670803f5ad57e"
  }
 ],
 "metadata": {
  "kernelspec": {
   "display_name": "Python 3",
   "language": "python",
   "name": "python3"
  },
  "language_info": {
   "codemirror_mode": {
    "name": "ipython",
    "version": 2
   },
   "file_extension": ".py",
   "mimetype": "text/x-python",
   "name": "python",
   "nbconvert_exporter": "python",
   "pygments_lexer": "ipython2",
   "version": "2.7.6"
  }
 },
 "nbformat": 4,
 "nbformat_minor": 5
}
