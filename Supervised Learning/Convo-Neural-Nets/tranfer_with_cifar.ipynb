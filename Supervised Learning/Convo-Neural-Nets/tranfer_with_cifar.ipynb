{
  "nbformat": 4,
  "nbformat_minor": 0,
  "metadata": {
    "colab": {
      "provenance": [],
      "gpuType": "T4"
    },
    "kernelspec": {
      "name": "python3",
      "display_name": "Python 3"
    },
    "language_info": {
      "name": "python"
    },
    "accelerator": "GPU"
  },
  "cells": [
    {
      "cell_type": "code",
      "execution_count": 1,
      "metadata": {
        "colab": {
          "base_uri": "https://localhost:8080/"
        },
        "id": "2IM0MdJI47vl",
        "outputId": "8e565fce-5389-491b-b076-280b3c888cf7"
      },
      "outputs": [
        {
          "output_type": "stream",
          "name": "stdout",
          "text": [
            "Requirement already satisfied: opendatasets in /usr/local/lib/python3.10/dist-packages (0.1.22)\n",
            "Requirement already satisfied: tqdm in /usr/local/lib/python3.10/dist-packages (from opendatasets) (4.66.1)\n",
            "Requirement already satisfied: kaggle in /usr/local/lib/python3.10/dist-packages (from opendatasets) (1.5.16)\n",
            "Requirement already satisfied: click in /usr/local/lib/python3.10/dist-packages (from opendatasets) (8.1.7)\n",
            "Requirement already satisfied: six>=1.10 in /usr/local/lib/python3.10/dist-packages (from kaggle->opendatasets) (1.16.0)\n",
            "Requirement already satisfied: certifi in /usr/local/lib/python3.10/dist-packages (from kaggle->opendatasets) (2023.7.22)\n",
            "Requirement already satisfied: python-dateutil in /usr/local/lib/python3.10/dist-packages (from kaggle->opendatasets) (2.8.2)\n",
            "Requirement already satisfied: requests in /usr/local/lib/python3.10/dist-packages (from kaggle->opendatasets) (2.31.0)\n",
            "Requirement already satisfied: python-slugify in /usr/local/lib/python3.10/dist-packages (from kaggle->opendatasets) (8.0.1)\n",
            "Requirement already satisfied: urllib3 in /usr/local/lib/python3.10/dist-packages (from kaggle->opendatasets) (2.0.4)\n",
            "Requirement already satisfied: bleach in /usr/local/lib/python3.10/dist-packages (from kaggle->opendatasets) (6.0.0)\n",
            "Requirement already satisfied: webencodings in /usr/local/lib/python3.10/dist-packages (from bleach->kaggle->opendatasets) (0.5.1)\n",
            "Requirement already satisfied: text-unidecode>=1.3 in /usr/local/lib/python3.10/dist-packages (from python-slugify->kaggle->opendatasets) (1.3)\n",
            "Requirement already satisfied: charset-normalizer<4,>=2 in /usr/local/lib/python3.10/dist-packages (from requests->kaggle->opendatasets) (3.2.0)\n",
            "Requirement already satisfied: idna<4,>=2.5 in /usr/local/lib/python3.10/dist-packages (from requests->kaggle->opendatasets) (3.4)\n",
            "Requirement already satisfied: pandas in /usr/local/lib/python3.10/dist-packages (1.5.3)\n",
            "Requirement already satisfied: python-dateutil>=2.8.1 in /usr/local/lib/python3.10/dist-packages (from pandas) (2.8.2)\n",
            "Requirement already satisfied: pytz>=2020.1 in /usr/local/lib/python3.10/dist-packages (from pandas) (2023.3.post1)\n",
            "Requirement already satisfied: numpy>=1.21.0 in /usr/local/lib/python3.10/dist-packages (from pandas) (1.23.5)\n",
            "Requirement already satisfied: six>=1.5 in /usr/local/lib/python3.10/dist-packages (from python-dateutil>=2.8.1->pandas) (1.16.0)\n",
            "Skipping, found downloaded files in \"./indian-medicinal-leaves-dataset\" (use force=True to force download)\n"
          ]
        }
      ],
      "source": [
        "!pip install opendatasets\n",
        "!pip install pandas\n",
        "import pandas\n",
        "import tensorflow as tf\n",
        "import opendatasets as od\n",
        "od.download(\"https://www.kaggle.com/datasets/aryashah2k/indian-medicinal-leaves-dataset\")\n"
      ]
    },
    {
      "cell_type": "code",
      "source": [
        "img_height = img_width = IMG_SIZE = 32\n",
        "batch_size = 10\n",
        "\n",
        "ds = tf.keras.utils.image_dataset_from_directory(\n",
        "  \"/content/indian-medicinal-leaves-dataset/Indian Medicinal Leaves Image Datasets/Medicinal plant dataset\",\n",
        "  validation_split=0.1,\n",
        "  subset=\"training\",\n",
        "  seed=123,\n",
        "  image_size=(img_height, img_width),\n",
        "  batch_size=batch_size)\n",
        "\n",
        "#from sklearn.model_selection import train_test_split\n",
        "#X_train, X_test, y_train, y_test = train_test_split(ds, test_size=0.33, random_state=42)\n",
        "\n",
        "val_ds = tf.keras.utils.image_dataset_from_directory(\n",
        "  \"/content/indian-medicinal-leaves-dataset/Indian Medicinal Leaves Image Datasets/Medicinal plant dataset\",\n",
        "  validation_split=0.1,\n",
        "  subset=\"validation\",\n",
        "  seed=123,\n",
        "  image_size=(img_height, img_width),\n",
        "  batch_size=batch_size)\n",
        "\n"
      ],
      "metadata": {
        "colab": {
          "base_uri": "https://localhost:8080/"
        },
        "id": "OgGownKs5I2a",
        "outputId": "ce579a9c-065e-4ca1-fe32-9ae485f0457c"
      },
      "execution_count": 2,
      "outputs": [
        {
          "output_type": "stream",
          "name": "stdout",
          "text": [
            "Found 5945 files belonging to 40 classes.\n",
            "Using 5351 files for training.\n",
            "Found 5945 files belonging to 40 classes.\n",
            "Using 594 files for validation.\n"
          ]
        }
      ]
    },
    {
      "cell_type": "code",
      "source": [
        "IMG_SIZE = 128\n",
        "from tensorflow.keras.models import Sequential\n",
        "\n",
        "from tensorflow.keras.datasets import cifar10\n",
        "from tensorflow.keras.layers import Conv2D, MaxPooling2D, Flatten, Dense, Dropout\n",
        "(X_train, y_train), (X_test, y_test) = cifar10.load_data()\n",
        "X_train = X_train / 255\n",
        "X_test = X_test / 255"
      ],
      "metadata": {
        "id": "lPAsagXP5Rvn"
      },
      "execution_count": 3,
      "outputs": []
    },
    {
      "cell_type": "code",
      "source": [
        "\n",
        "from tensorflow.keras.models import Sequential\n",
        "from tensorflow.keras.layers import Dense, Flatten, Dropout, Activation\n",
        "from tensorflow.keras.layers import Conv2D, MaxPooling2D\n",
        "#X = X / 255.0\n",
        "model = Sequential(\n",
        "[Conv2D(32, (3, 3), activation = 'relu', padding = 'same', input_shape = (32, 32, 3)),\n",
        " MaxPooling2D((2, 2)),\n",
        " Dropout(0.25),\n",
        "\n",
        "\n",
        " Conv2D(32, (3, 3), activation = 'relu', padding = 'same'),\n",
        " MaxPooling2D((2, 2)),\n",
        " Dropout(0.25),\n",
        "\n",
        " Flatten(),\n",
        "\n",
        " Dense(512, activation = 'relu'),\n",
        " Dropout(0.5),\n",
        " Dense(10, activation = 'softmax')\n",
        "]\n",
        ")\n",
        "\n",
        "model.compile(loss = \"sparse_categorical_crossentropy\",\n",
        "             optimizer = 'adam',\n",
        "             metrics = ['accuracy'])\n",
        "with tf.device(\"/GPU:0\"):\n",
        "    model.fit(X_train, y_train, batch_size = 10, epochs = 10, validation_data = (X_test, y_test))"
      ],
      "metadata": {
        "colab": {
          "base_uri": "https://localhost:8080/"
        },
        "id": "xXm9HH525XWZ",
        "outputId": "a4bede20-28b0-41a3-fbb2-464176feac10"
      },
      "execution_count": 4,
      "outputs": [
        {
          "output_type": "stream",
          "name": "stdout",
          "text": [
            "Epoch 1/10\n",
            "5000/5000 [==============================] - 35s 5ms/step - loss: 1.5091 - accuracy: 0.4539 - val_loss: 1.1534 - val_accuracy: 0.5914\n",
            "Epoch 2/10\n",
            "5000/5000 [==============================] - 22s 4ms/step - loss: 1.2288 - accuracy: 0.5625 - val_loss: 1.0977 - val_accuracy: 0.6111\n",
            "Epoch 3/10\n",
            "5000/5000 [==============================] - 21s 4ms/step - loss: 1.1182 - accuracy: 0.6067 - val_loss: 1.0279 - val_accuracy: 0.6400\n",
            "Epoch 4/10\n",
            "5000/5000 [==============================] - 21s 4ms/step - loss: 1.0603 - accuracy: 0.6288 - val_loss: 0.9441 - val_accuracy: 0.6703\n",
            "Epoch 5/10\n",
            "5000/5000 [==============================] - 22s 4ms/step - loss: 1.0196 - accuracy: 0.6419 - val_loss: 0.9237 - val_accuracy: 0.6791\n",
            "Epoch 6/10\n",
            "5000/5000 [==============================] - 22s 4ms/step - loss: 0.9837 - accuracy: 0.6532 - val_loss: 0.8922 - val_accuracy: 0.6883\n",
            "Epoch 7/10\n",
            "5000/5000 [==============================] - 21s 4ms/step - loss: 0.9639 - accuracy: 0.6616 - val_loss: 0.8837 - val_accuracy: 0.6964\n",
            "Epoch 8/10\n",
            "5000/5000 [==============================] - 22s 4ms/step - loss: 0.9333 - accuracy: 0.6729 - val_loss: 0.9257 - val_accuracy: 0.6724\n",
            "Epoch 9/10\n",
            "5000/5000 [==============================] - 22s 4ms/step - loss: 0.9159 - accuracy: 0.6800 - val_loss: 0.8498 - val_accuracy: 0.7006\n",
            "Epoch 10/10\n",
            "5000/5000 [==============================] - 21s 4ms/step - loss: 0.9042 - accuracy: 0.6840 - val_loss: 0.8548 - val_accuracy: 0.7072\n"
          ]
        }
      ]
    },
    {
      "cell_type": "code",
      "source": [
        "model.layers[0].trainable = False\n",
        "model.layers[1].trainable = False\n",
        "model.layers[2].trainable = False\n",
        "model.layers[3].trainable = False\n",
        "model.pop()\n",
        "model.pop()\n",
        "model.add(Dense(512, activation = 'relu'))\n",
        "model.add(Dense(40, activation = 'softmax'))\n",
        "model.compile(optimizer = 'adam', loss = 'sparse_categorical_crossentropy', metrics = ['accuracy'])\n",
        "model.fit(ds, epochs = 10, validation_data = val_ds)"
      ],
      "metadata": {
        "colab": {
          "base_uri": "https://localhost:8080/"
        },
        "id": "PVbSGdAe8VzC",
        "outputId": "16f122ec-4769-4eeb-f3d2-69a9acfb8947"
      },
      "execution_count": 5,
      "outputs": [
        {
          "output_type": "stream",
          "name": "stdout",
          "text": [
            "Epoch 1/10\n",
            "536/536 [==============================] - 12s 19ms/step - loss: 19.7026 - accuracy: 0.0753 - val_loss: 3.7341 - val_accuracy: 0.0657\n",
            "Epoch 2/10\n",
            "536/536 [==============================] - 8s 15ms/step - loss: 3.6690 - accuracy: 0.0693 - val_loss: 3.5384 - val_accuracy: 0.0707\n",
            "Epoch 3/10\n",
            "536/536 [==============================] - 7s 13ms/step - loss: 3.5132 - accuracy: 0.0905 - val_loss: 3.4033 - val_accuracy: 0.0842\n",
            "Epoch 4/10\n",
            "536/536 [==============================] - 8s 15ms/step - loss: 3.3710 - accuracy: 0.1080 - val_loss: 3.2564 - val_accuracy: 0.0993\n",
            "Epoch 5/10\n",
            "536/536 [==============================] - 7s 14ms/step - loss: 3.2461 - accuracy: 0.1299 - val_loss: 3.2312 - val_accuracy: 0.1448\n",
            "Epoch 6/10\n",
            "536/536 [==============================] - 7s 12ms/step - loss: 3.1695 - accuracy: 0.1514 - val_loss: 3.1061 - val_accuracy: 0.1532\n",
            "Epoch 7/10\n",
            "536/536 [==============================] - 8s 15ms/step - loss: 3.0702 - accuracy: 0.1717 - val_loss: 3.0583 - val_accuracy: 0.1549\n",
            "Epoch 8/10\n",
            "536/536 [==============================] - 8s 15ms/step - loss: 2.9986 - accuracy: 0.1856 - val_loss: 3.0843 - val_accuracy: 0.1835\n",
            "Epoch 9/10\n",
            "536/536 [==============================] - 7s 12ms/step - loss: 2.9367 - accuracy: 0.2087 - val_loss: 2.9161 - val_accuracy: 0.1919\n",
            "Epoch 10/10\n",
            "536/536 [==============================] - 7s 12ms/step - loss: 2.8473 - accuracy: 0.2228 - val_loss: 2.9128 - val_accuracy: 0.1987\n"
          ]
        },
        {
          "output_type": "execute_result",
          "data": {
            "text/plain": [
              "<keras.src.callbacks.History at 0x7f3832b5bbb0>"
            ]
          },
          "metadata": {},
          "execution_count": 5
        }
      ]
    }
  ]
}